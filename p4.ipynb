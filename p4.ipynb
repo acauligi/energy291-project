{
 "cells": [
  {
   "cell_type": "code",
   "execution_count": 1,
   "id": "cc1ef69d",
   "metadata": {},
   "outputs": [],
   "source": [
    "import matplotlib.pyplot as plt\n",
    "%matplotlib inline\n",
    "\n",
    "%load_ext autoreload\n",
    "%autoreload 2\n",
    "\n",
    "import pandas as pd\n",
    "import numpy as np\n",
    "import cvxpy as cp\n",
    "import gurobipy"
   ]
  },
  {
   "cell_type": "code",
   "execution_count": 2,
   "id": "64d27a8d",
   "metadata": {},
   "outputs": [],
   "source": [
    "dh_s = 120*60\n",
    "initial_storage_MW = 0.0\n",
    "max_storage_MW = 100e3\n",
    "\n",
    "n_sources = 6\n",
    "\n",
    "N = 12\n",
    "Ts = []\n",
    "for ii in range(0,288, int(288/N)):\n",
    "    Ts.append(ii)"
   ]
  },
  {
   "cell_type": "code",
   "execution_count": 3,
   "id": "7335598d-69cc-437a-ae3e-8a111806c8c4",
   "metadata": {},
   "outputs": [],
   "source": [
    "Ts_tr = np.array([], dtype='float')\n",
    "solar_tr = np.array([], dtype='float')\n",
    "wind_tr = np.array([], dtype='float')\n",
    "geothermal_tr = np.array([], dtype='float')\n",
    "biomass_tr = np.array([], dtype='float')\n",
    "biogas_tr = np.array([], dtype='float')\n",
    "small_hydro_tr = np.array([], dtype='float')\n",
    "non_renewables_tr = np.array([], dtype='float')\n",
    "\n",
    "data_tr = np.zeros((0,n_sources), dtype='float')\n",
    "\n",
    "for ii in [4,3,2,0,1]:\n",
    "    str_ii = str(ii+1).zfill(2)\n",
    "    supply_df = pd.read_csv('data/CAISO-supply-2021{}20.csv'.format(str_ii))\n",
    "    demand_df = pd.read_csv('data/CAISO-demand-2021{}20.csv'.format(str_ii))\n",
    "    renewables_df = pd.read_csv('data/CAISO-renewables-2021{}20.csv'.format(str_ii))\n",
    "\n",
    "    natural_gas = supply_df.iloc[1].values[1:-1][Ts]\n",
    "    large_hydro = supply_df.iloc[2].values[1:-1][Ts]\n",
    "    imports = supply_df.iloc[3].values[1:-1][Ts]\n",
    "    batteries = supply_df.iloc[4].values[1:-1][Ts]\n",
    "    nuclear = supply_df.iloc[5].values[1:-1][Ts]\n",
    "    coal = supply_df.iloc[6].values[1:-1][Ts]\n",
    "    other = supply_df.iloc[7].values[1:-1][Ts]\n",
    "\n",
    "    solar = renewables_df.iloc[0].values[1:][Ts]\n",
    "    wind = renewables_df.iloc[1].values[1:][Ts]\n",
    "    geothermal = renewables_df.iloc[2].values[1:][Ts]\n",
    "    biomass = renewables_df.iloc[3].values[1:][Ts]\n",
    "    biogas = renewables_df.iloc[4].values[1:][Ts]\n",
    "    small_hydro = renewables_df.iloc[5].values[1:][Ts]\n",
    "\n",
    "    renewables = supply_df.iloc[0].values[1:-1][Ts]\n",
    "    non_renewables = natural_gas + large_hydro + imports + batteries + nuclear + coal + other\n",
    "\n",
    "    hour_ahead_forecast = demand_df.iloc[1].values[1:-1][Ts]\n",
    "\n",
    "    Ts_tr = np.append(Ts_tr, np.array(Ts))\n",
    "    solar_tr = np.append(solar_tr, solar.astype(float))\n",
    "    wind_tr = np.append(wind_tr, wind.astype(float))\n",
    "\n",
    "    renewables_tr = np.vstack((solar, wind, geothermal, biomass, biogas, small_hydro)).T\n",
    "    renewables_tr = np.maximum(renewables_tr, 0)\n",
    "    data_tr = np.vstack((data_tr, renewables_tr))"
   ]
  },
  {
   "cell_type": "code",
   "execution_count": 334,
   "id": "fe26175b",
   "metadata": {},
   "outputs": [],
   "source": [
    "ii = 3\n",
    "str_ii = str(ii+1).zfill(2)\n",
    "supply_df = pd.read_csv('data/CAISO-supply-2021{}20.csv'.format(str_ii))\n",
    "demand_df = pd.read_csv('data/CAISO-demand-2021{}20.csv'.format(str_ii))\n",
    "renewables_df = pd.read_csv('data/CAISO-renewables-2021{}20.csv'.format(str_ii))\n",
    "\n",
    "natural_gas = supply_df.iloc[1].values[1:-1][Ts]\n",
    "large_hydro = supply_df.iloc[2].values[1:-1][Ts]\n",
    "imports = supply_df.iloc[3].values[1:-1][Ts]\n",
    "batteries = supply_df.iloc[4].values[1:-1][Ts]\n",
    "nuclear = supply_df.iloc[5].values[1:-1][Ts]\n",
    "coal = supply_df.iloc[6].values[1:-1][Ts]\n",
    "other = supply_df.iloc[7].values[1:-1][Ts]\n",
    "\n",
    "solar = renewables_df.iloc[0].values[1:][Ts]\n",
    "wind = renewables_df.iloc[1].values[1:][Ts]\n",
    "geothermal = renewables_df.iloc[2].values[1:][Ts]\n",
    "biomass = renewables_df.iloc[3].values[1:][Ts]\n",
    "biogas = renewables_df.iloc[4].values[1:][Ts]\n",
    "small_hydro = renewables_df.iloc[5].values[1:][Ts]\n",
    "\n",
    "renewables = supply_df.iloc[0].values[1:-1][Ts]\n",
    "non_renewables = natural_gas + large_hydro + imports + batteries + nuclear + coal + other\n",
    "\n",
    "n_sources = 13\n",
    "supply = np.zeros((n_sources, len(Ts)))\n",
    "supply[0] = solar\n",
    "supply[1] = wind\n",
    "supply[2] = geothermal\n",
    "supply[3] = biomass\n",
    "supply[4] = biogas\n",
    "supply[5] = small_hydro\n",
    "supply[6] = natural_gas\n",
    "supply[7] = large_hydro\n",
    "supply[8] = imports\n",
    "supply[9] = batteries\n",
    "supply[10] = nuclear\n",
    "supply[11] = coal\n",
    "supply[12] = other\n",
    "\n",
    "cost_series = 100000.0 * np.ones(N-1)\n",
    "\n",
    "day_ahead_forecast = demand_df.iloc[0].values[1:-1][Ts]\n",
    "hour_ahead_forecast = demand_df.iloc[1].values[1:-1][Ts]\n",
    "# demand = demand_df.iloc[2].values[1:-1]"
   ]
  },
  {
   "cell_type": "code",
   "execution_count": 335,
   "id": "626a4c83",
   "metadata": {},
   "outputs": [],
   "source": [
    "in_storage = cp.Variable(N+1)\n",
    "store_in = cp.Variable(N)\n",
    "store_out = cp.Variable(N)\n",
    "buy = cp.Variable((n_sources,N))\n",
    "\n",
    "M_ = 1e8\n",
    "y = cp.Variable((n_sources,N), boolean=True)"
   ]
  },
  {
   "cell_type": "code",
   "execution_count": 336,
   "id": "07433db8",
   "metadata": {
    "tags": []
   },
   "outputs": [],
   "source": [
    "cons = []\n",
    "\n",
    "# Upper and lower bounds\n",
    "cons += [in_storage >= 0.0]\n",
    "cons += [in_storage <= max_storage_MW]\n",
    "cons += [store_in >= 0.0]\n",
    "cons += [store_out >= 0.0]\n",
    "cons += [buy >= 0.0]\n",
    "cons += [discharge_cost >= 0.0]\n",
    "\n",
    "# Storage initialization constraint\n",
    "cons += [in_storage[0] == initial_storage_MW]\n",
    "\n",
    "for ii in range(N):\n",
    "    # Available power constraint\n",
    "    for jj in range(n_sources):\n",
    "        cons += [buy[jj,ii] <= np.maximum(supply[jj,ii], 0.0)]\n",
    "\n",
    "    # Storage conservation of energy\n",
    "    cons += [in_storage[ii+1] == in_storage[ii] + store_in[ii] - store_out[ii]]\n",
    "\n",
    "    # Sufficiency constraint\n",
    "    cons += [sum(buy[:,ii]) - store_in[ii] + store_out[ii] >= hour_ahead_forecast[ii]]\n",
    "\n",
    "    # Store-in constraint\n",
    "    cons += [store_in[ii] <= sum(buy[:,ii])]\n",
    "\n",
    "    for jj in range(n_sources):\n",
    "        cons += [buy[jj,ii] <= M_*y[jj,ii]]\n",
    "    cons += [cp.sum(y[:,ii]) <= 10.0]"
   ]
  },
  {
   "cell_type": "code",
   "execution_count": 337,
   "id": "6cba0bae",
   "metadata": {},
   "outputs": [
    {
     "data": {
      "text/plain": [
       "'optimal'"
      ]
     },
     "execution_count": 337,
     "metadata": {},
     "output_type": "execute_result"
    }
   ],
   "source": [
    "sf = 1e6\n",
    "total_cost = cp.sum(buy)\n",
    "regularization_factor = 1e-4\n",
    "for ii in range(n_sources):\n",
    "    total_cost += regularization_factor*cp.quad_form(buy[ii,:], np.eye(N))\n",
    "\n",
    "grb_param_dict = {}\n",
    "grb_param_dict['FeasibilityTol'] = 1e-9\n",
    "    \n",
    "prob = cp.Problem(cp.Minimize(total_cost), cons)\n",
    "prob.solve(solver=cp.GUROBI, **grb_param_dict)\n",
    "\n",
    "prob.status"
   ]
  },
  {
   "cell_type": "code",
   "execution_count": 338,
   "id": "986bb390",
   "metadata": {},
   "outputs": [
    {
     "data": {
      "text/plain": [
       "<matplotlib.legend.Legend at 0x7ff369f8c390>"
      ]
     },
     "execution_count": 338,
     "metadata": {},
     "output_type": "execute_result"
    },
    {
     "data": {
      "image/png": "[encoded data removed]",
      "text/plain": [
       "<Figure size 432x288 with 1 Axes>"
      ]
     },
     "metadata": {
      "needs_background": "light"
     },
     "output_type": "display_data"
    }
   ],
   "source": [
    "plt.plot(Ts+[Ts[-1]+24], in_storage.value, label=\"In Storage [MW]\")\n",
    "plt.plot(Ts, store_in.value, label=\"Store In [MW]\")\n",
    "plt.plot(Ts, store_out.value, label=\"Store Out [MW]\")\n",
    "plt.legend(loc=\"best\")"
   ]
  },
  {
   "cell_type": "code",
   "execution_count": 215,
   "id": "904ba322-5ad0-4f94-bfb7-199f296d4b73",
   "metadata": {},
   "outputs": [],
   "source": [
    "# cons += [store_out[ii] <= M_*y[ii]] \n",
    "\n",
    "# for ii in range(N-1):\n",
    "#     cons += [discharge_cost[ii] >= 10e6 * (y[ii+1]-y[ii])]\n",
    "# for ii in range(n_sources-1):\n",
    "#     for jj in range(N):\n",
    "#         cons += [buy[ii,jj] <= y[ii, jj]]\n",
    "#     cons += [cp.sum(y[ii,:]) <= 10.0]\n",
    "\n",
    "# for ii in range(N-1):\n",
    "#     cons += [start_up_cost[ii] >= cost_series[ii]*(y[ii+1]-y[ii])]\n",
    "#     cons += [store_out[ii] <= M_*y[ii]]\n",
    "\n",
    "# max_discharges = 1.0\n",
    "# for ii in range(0,N,3):\n",
    "#     min_idx, max_idx = ii, np.minimum(ii+3,N-1)\n",
    "#     cons += [cp.sum(y[min_idx:max_idx]) <= max_discharges]"
   ]
  }
 ],
 "metadata": {
  "kernelspec": {
   "display_name": "energy_291",
   "language": "python",
   "name": "energy_291"
  },
  "language_info": {
   "codemirror_mode": {
    "name": "ipython",
    "version": 3
   },
   "file_extension": ".py",
   "mimetype": "text/x-python",
   "name": "python",
   "nbconvert_exporter": "python",
   "pygments_lexer": "ipython3",
   "version": "3.7.5"
  }
 },
 "nbformat": 4,
 "nbformat_minor": 5
}
