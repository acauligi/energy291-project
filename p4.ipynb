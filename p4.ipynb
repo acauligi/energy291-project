{
 "cells": [
  {
   "cell_type": "code",
   "execution_count": null,
   "id": "cc1ef69d",
   "metadata": {},
   "outputs": [],
   "source": [
    "import matplotlib.pyplot as plt\n",
    "%matplotlib inline\n",
    "\n",
    "%load_ext autoreload\n",
    "%autoreload 2\n",
    "\n",
    "import pandas as pd\n",
    "import numpy as np\n",
    "import cvxpy as cp\n",
    "import gurobipy"
   ]
  },
  {
   "cell_type": "code",
   "execution_count": null,
   "id": "64d27a8d",
   "metadata": {},
   "outputs": [],
   "source": [
    "dh_s = 120*60\n",
    "initial_storage_MW = 10000.0\n",
    "initial_storage_MW = 0.0\n",
    "max_discharges = 3.0\n",
    "\n",
    "N = 12\n",
    "Ts = []\n",
    "for ii in range(0,288, int(288/N)):\n",
    "    Ts.append(ii)"
   ]
  },
  {
   "cell_type": "code",
   "execution_count": null,
   "id": "275c240a",
   "metadata": {},
   "outputs": [],
   "source": [
    "supply_df = pd.read_csv('CAISO-supply-20210520.csv')\n",
    "demand_df = pd.read_csv('CAISO-demand-20210510.csv')\n",
    "renewables_df = pd.read_csv('CAISO-renewables-20210520.csv')"
   ]
  },
  {
   "cell_type": "code",
   "execution_count": null,
   "id": "fe26175b",
   "metadata": {},
   "outputs": [],
   "source": [
    "natural_gas = supply_df.iloc[1].values[1:-1][Ts]\n",
    "large_hydro = supply_df.iloc[2].values[1:-1][Ts]\n",
    "imports = supply_df.iloc[3].values[1:-1][Ts]\n",
    "batteries = supply_df.iloc[4].values[1:-1][Ts]\n",
    "nuclear = supply_df.iloc[5].values[1:-1][Ts]\n",
    "coal = supply_df.iloc[6].values[1:-1][Ts]\n",
    "other = supply_df.iloc[7].values[1:-1][Ts]\n",
    "\n",
    "solar = renewables_df.iloc[0].values[1:][Ts]\n",
    "wind = renewables_df.iloc[1].values[1:][Ts]\n",
    "geothermal = renewables_df.iloc[2].values[1:][Ts]\n",
    "biomass = renewables_df.iloc[3].values[1:][Ts]\n",
    "biogas = renewables_df.iloc[4].values[1:][Ts]\n",
    "small_hydro = renewables_df.iloc[5].values[1:][Ts]\n",
    "\n",
    "renewables = supply_df.iloc[0].values[1:-1][Ts]\n",
    "non_renewables = natural_gas + large_hydro + imports + batteries + nuclear + coal + other\n",
    "\n",
    "n_sources = 7\n",
    "supply = np.zeros((n_sources, len(Ts)))\n",
    "supply[0,:] = solar\n",
    "supply[1] = wind\n",
    "supply[2] = geothermal\n",
    "supply[3] = biomass\n",
    "supply[4] = biogas\n",
    "supply[5] = small_hydro\n",
    "supply[6] = non_renewables"
   ]
  },
  {
   "cell_type": "code",
   "execution_count": null,
   "id": "40ec81ab",
   "metadata": {},
   "outputs": [],
   "source": [
    "day_ahead_forecast = demand_df.iloc[0].values[1:-1][Ts]\n",
    "hour_ahead_forecast = demand_df.iloc[1].values[1:-1][Ts]\n",
    "# demand = demand_df.iloc[2].values[1:-1]"
   ]
  },
  {
   "cell_type": "code",
   "execution_count": null,
   "id": "626a4c83",
   "metadata": {},
   "outputs": [],
   "source": [
    "y = cp.Variable(N, boolean=True)\n",
    "M_ = 1e8\n",
    "\n",
    "in_storage = cp.Variable(N+1)\n",
    "store_in = cp.Variable(N)\n",
    "store_out = cp.Variable(N)\n",
    "buy = cp.Variable((n_sources,N))"
   ]
  },
  {
   "cell_type": "code",
   "execution_count": null,
   "id": "07433db8",
   "metadata": {},
   "outputs": [],
   "source": [
    "cons = []\n",
    "\n",
    "cons += [in_storage >= 0.0]\n",
    "cons += [store_in >= 0.0]\n",
    "cons += [store_out >= 0.0]\n",
    "cons += [buy >= 0.0]\n",
    "\n",
    "# Storage initialization constraint\n",
    "cons += [in_storage[0] == initial_storage_MW]\n",
    "\n",
    "for ii in range(N):\n",
    "    # Available power constraint\n",
    "    for jj in range(n_sources):\n",
    "        cons += [buy[jj,ii] <= np.maximum(supply[jj,ii], 0.0)]\n",
    "\n",
    "    # Storage conservation of energy\n",
    "    cons += [in_storage[ii+1] == in_storage[ii] + store_in[ii] - store_out[ii]]\n",
    "\n",
    "    # Sufficiency constraint\n",
    "    cons += [sum(buy[:,ii]) - store_in[ii] + store_out[ii] >= hour_ahead_forecast[ii]]\n",
    "\n",
    "    # Store-in constraint\n",
    "    cons += [store_in[ii] <= sum(buy[:,ii])]\n",
    "\n",
    "    # Store-out constraint\n",
    "    cons += [store_out[ii] <= M_*y[ii]]\n",
    "\n",
    "for ii in range(0,N,3):\n",
    "    min_idx, max_idx = ii, np.minimum(ii+3,N-1)\n",
    "    cons += [cp.sum(y[min_idx:max_idx]) <= max_discharges]"
   ]
  },
  {
   "cell_type": "code",
   "execution_count": null,
   "id": "6cba0bae",
   "metadata": {},
   "outputs": [],
   "source": [
    "total_cost = cp.sum(buy)\n",
    "prob = cp.Problem(cp.Minimize(total_cost), cons)\n",
    "prob.solve(solver=cp.GUROBI)"
   ]
  },
  {
   "cell_type": "code",
   "execution_count": null,
   "id": "986bb390",
   "metadata": {},
   "outputs": [],
   "source": [
    "plt.plot(Ts+[Ts[-1]+24], in_storage.value, label=\"In Storage [MW]\")\n",
    "plt.plot(Ts, store_in.value, label=\"Store In [MW]\")\n",
    "plt.plot(Ts, store_out.value, label=\"Store Out [MW]\")\n",
    "plt.legend(loc=\"best\")"
   ]
  },
  {
   "cell_type": "code",
   "execution_count": null,
   "id": "0030fa09",
   "metadata": {},
   "outputs": [],
   "source": []
  }
 ],
 "metadata": {
  "kernelspec": {
   "display_name": "energy_291",
   "language": "python",
   "name": "energy_291"
  },
  "language_info": {
   "codemirror_mode": {
    "name": "ipython",
    "version": 3
   },
   "file_extension": ".py",
   "mimetype": "text/x-python",
   "name": "python",
   "nbconvert_exporter": "python",
   "pygments_lexer": "ipython3",
   "version": "3.7.5"
  }
 },
 "nbformat": 4,
 "nbformat_minor": 5
}
