{
 "cells": [
  {
   "cell_type": "code",
   "execution_count": 1,
   "id": "bc5b36ee",
   "metadata": {},
   "outputs": [],
   "source": [
    "import matplotlib.pyplot as plt\n",
    "%matplotlib inline\n",
    "\n",
    "%load_ext autoreload\n",
    "%autoreload 2\n",
    "\n",
    "import pandas as pd\n",
    "import numpy as np\n",
    "import cvxpy as cp\n",
    "import gurobipy\n",
    "\n",
    "from src.problem import Problem\n",
    "from pytorch.models import FFNet"
   ]
  },
  {
   "cell_type": "code",
   "execution_count": 2,
   "id": "f565040e",
   "metadata": {},
   "outputs": [],
   "source": [
    "dh_s = 120*60\n",
    "initial_storage_MW = 10000.0\n",
    "max_discharges = 3.0\n",
    "\n",
    "N = 12\n",
    "Ts = []\n",
    "for ii in range(0,288, int(288/N)):\n",
    "    Ts.append(ii)"
   ]
  },
  {
   "cell_type": "code",
   "execution_count": 3,
   "id": "93b83813",
   "metadata": {},
   "outputs": [],
   "source": [
    "supply_df = pd.read_csv('data/CAISO-supply-20210520.csv')\n",
    "demand_df = pd.read_csv('data/CAISO-demand-20210510.csv')\n",
    "renewables_df = pd.read_csv('data/CAISO-renewables-20210520.csv')\n",
    "\n",
    "natural_gas = supply_df.iloc[1].values[1:-1][Ts]\n",
    "large_hydro = supply_df.iloc[2].values[1:-1][Ts]\n",
    "imports = supply_df.iloc[3].values[1:-1][Ts]\n",
    "batteries = supply_df.iloc[4].values[1:-1][Ts]\n",
    "nuclear = supply_df.iloc[5].values[1:-1][Ts]\n",
    "coal = supply_df.iloc[6].values[1:-1][Ts]\n",
    "other = supply_df.iloc[7].values[1:-1][Ts]\n",
    "\n",
    "solar = renewables_df.iloc[0].values[1:][Ts]\n",
    "wind = renewables_df.iloc[1].values[1:][Ts]\n",
    "geothermal = renewables_df.iloc[2].values[1:][Ts]\n",
    "biomass = renewables_df.iloc[3].values[1:][Ts]\n",
    "biogas = renewables_df.iloc[4].values[1:][Ts]\n",
    "small_hydro = renewables_df.iloc[5].values[1:][Ts]\n",
    "\n",
    "renewables = supply_df.iloc[0].values[1:-1][Ts]\n",
    "non_renewables = natural_gas + large_hydro + imports + batteries + nuclear + coal + other\n",
    "\n",
    "n_sources = 7\n",
    "supply = np.zeros((n_sources, len(Ts)))\n",
    "supply[0,:] = solar\n",
    "supply[1] = wind\n",
    "supply[2] = geothermal\n",
    "supply[3] = biomass\n",
    "supply[4] = biogas\n",
    "supply[5] = small_hydro\n",
    "supply[6] = non_renewables\n",
    "\n",
    "day_ahead_forecast = demand_df.iloc[0].values[1:-1][Ts].astype(float)\n",
    "hour_ahead_forecast = demand_df.iloc[1].values[1:-1][Ts].astype(float)\n",
    "# demand = demand_df.iloc[2].values[1:-1]"
   ]
  },
  {
   "cell_type": "code",
   "execution_count": 4,
   "id": "b9c7f7e4-ff96-49ec-b726-359738b93821",
   "metadata": {},
   "outputs": [],
   "source": [
    "params = {}\n",
    "params['initial_storage_MW'] = initial_storage_MW\n",
    "params['max_discharges'] = max_discharges\n",
    "params['supply'] = np.maximum(supply, 0.0)\n",
    "params['hour_ahead_forecast'] = hour_ahead_forecast"
   ]
  },
  {
   "cell_type": "code",
   "execution_count": 5,
   "id": "3ab2102f-989b-4d9e-9261-5c38b4a75bdc",
   "metadata": {
    "tags": []
   },
   "outputs": [],
   "source": [
    "# prob.solve_bin_problem(params)\n",
    "N = 12\n",
    "n_sources = 7\n",
    "prob = Problem(N, n_sources)"
   ]
  },
  {
   "cell_type": "code",
   "execution_count": 6,
   "id": "354b19f8-c069-4c26-9797-6d5a1aa3f693",
   "metadata": {
    "tags": []
   },
   "outputs": [
    {
     "name": "stdout",
     "output_type": "stream",
     "text": [
      "Academic license - for non-commercial use only - expires 2021-07-20\n",
      "Using license file /Users/acauligi/gurobi.lic\n"
     ]
    }
   ],
   "source": [
    "prob_success, cost, solve_time, optvals = prob.solve_bin_problem(params)"
   ]
  },
  {
   "cell_type": "code",
   "execution_count": 7,
   "id": "beb3d570-37aa-4a5b-b140-a15a0a1be9a8",
   "metadata": {},
   "outputs": [
    {
     "data": {
      "text/plain": [
       "(True, 277194.0, 0.0037310123443603516)"
      ]
     },
     "execution_count": 7,
     "metadata": {},
     "output_type": "execute_result"
    }
   ],
   "source": [
    "y_opt = optvals[0]\n",
    "prob.solve_coco_problem(params, y_opt)"
   ]
  }
 ],
 "metadata": {
  "kernelspec": {
   "display_name": "energy_291",
   "language": "python",
   "name": "energy_291"
  },
  "language_info": {
   "codemirror_mode": {
    "name": "ipython",
    "version": 3
   },
   "file_extension": ".py",
   "mimetype": "text/x-python",
   "name": "python",
   "nbconvert_exporter": "python",
   "pygments_lexer": "ipython3",
   "version": "3.7.5"
  }
 },
 "nbformat": 4,
 "nbformat_minor": 5
}
