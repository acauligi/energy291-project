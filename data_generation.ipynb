{
 "cells": [
  {
   "cell_type": "code",
   "execution_count": 2,
   "metadata": {},
   "outputs": [
    {
     "name": "stdout",
     "output_type": "stream",
     "text": [
      "The autoreload extension is already loaded. To reload it, use:\n",
      "  %reload_ext autoreload\n"
     ]
    }
   ],
   "source": [
    "import matplotlib.pyplot as plt\n",
    "%matplotlib inline\n",
    "\n",
    "%load_ext autoreload\n",
    "%autoreload 2\n",
    "\n",
    "import pandas as pd\n",
    "import numpy as np\n",
    "import cvxpy as cp\n",
    "import gurobipy\n",
    "import mosek\n",
    "\n",
    "from src.problem import Problem\n",
    "from src.coco import CoCo\n",
    "from src.gp import GaussianProcess\n",
    "from pytorch.models import FFNet\n",
    "\n",
    "np.random.seed(12)"
   ]
  },
  {
   "cell_type": "code",
   "execution_count": 3,
   "metadata": {},
   "outputs": [],
   "source": [
    "import math\n",
    "import seaborn as sns\n",
    "sns.set(font_scale=2., font=\"serif\", style=\"whitegrid\")\n",
    "import pandas as pd\n",
    "import matplotlib\n",
    "\n",
    "mpl_params = {\n",
    "#     'backend': 'ps',\n",
    "#               'text.latex.preamble': ['\\\\usepackage{gensymb}'],\n",
    "#               'axes.labelsize': 12, # fontsize for x and y labels (was 12 and before 10)\n",
    "#               'axes.titlesize': 12,\n",
    "#               'font.size': 12, # was 12 and before 10\n",
    "              'legend.fontsize': 16, # was 12 and before 10\n",
    "#               'xtick.labelsize': 12,\n",
    "#               'ytick.labelsize': 12,\n",
    "#               'text.usetex': True,\n",
    "#               'font.family': 'serif',\n",
    "#               'font.sans-serif':['Helvetica Neue']\n",
    "    }\n",
    "\n",
    "sns.set(font_scale=2.5)\n",
    "matplotlib.rcParams.update(mpl_params)"
   ]
  },
  {
   "cell_type": "markdown",
   "metadata": {},
   "source": [
    "#### The time series from CAISO has 288 data points, so we can choose the resolution at which we sample it and the size of the MICP."
   ]
  },
  {
   "cell_type": "code",
   "execution_count": 4,
   "metadata": {},
   "outputs": [],
   "source": [
    "dh_s = 120*60\n",
    "initial_storage_MW = 0.0\n",
    "max_storage_MW = 100e3\n",
    "\n",
    "n_files = 5\n",
    "n_sources = 12\n",
    "max_sources = 8\n",
    "\n",
    "N = 12\n",
    "Ts = []\n",
    "for ii in range(0,288, int(np.floor(288/N))):\n",
    "    Ts.append(ii)\n",
    "Ts = np.atleast_2d(Ts).T"
   ]
  },
  {
   "cell_type": "code",
   "execution_count": 5,
   "metadata": {},
   "outputs": [],
   "source": [
    "x_train = np.reshape(np.repeat(Ts, (n_files), axis=1).T, (n_files*N,1))\n",
    "supply_train = np.zeros((n_sources, n_files*N))\n",
    "demand_train = np.zeros(n_files*N)\n",
    "\n",
    "for ii in range(n_files):\n",
    "    str_ii = str(ii+1).zfill(2)\n",
    "    supply_df = pd.read_csv('data/CAISO-supply-2021{}20.csv'.format(str_ii))\n",
    "    demand_df = pd.read_csv('data/CAISO-demand-2021{}20.csv'.format(str_ii))\n",
    "    renewables_df = pd.read_csv('data/CAISO-renewables-2021{}20.csv'.format(str_ii))\n",
    "\n",
    "    natural_gas = supply_df.iloc[1].values[1:-1][Ts]\n",
    "    large_hydro = supply_df.iloc[2].values[1:-1][Ts]\n",
    "    imports = supply_df.iloc[3].values[1:-1][Ts]\n",
    "    batteries = supply_df.iloc[4].values[1:-1][Ts]\n",
    "    nuclear = supply_df.iloc[5].values[1:-1][Ts]\n",
    "    coal = supply_df.iloc[6].values[1:-1][Ts]\n",
    "#     other = supply_df.iloc[7].values[1:-1][Ts]\n",
    "\n",
    "    solar = renewables_df.iloc[0].values[1:][Ts]\n",
    "    wind = renewables_df.iloc[1].values[1:][Ts]\n",
    "    geothermal = renewables_df.iloc[2].values[1:][Ts]\n",
    "    biomass = renewables_df.iloc[3].values[1:][Ts]\n",
    "    biogas = renewables_df.iloc[4].values[1:][Ts]\n",
    "    small_hydro = renewables_df.iloc[5].values[1:][Ts]\n",
    "\n",
    "    hour_ahead_forecast = demand_df.iloc[1].values[1:-1][Ts]\n",
    "\n",
    "    idx_range = range(N*ii, N*(ii+1))\n",
    "    supply_train[0, idx_range] = solar.flatten()\n",
    "    supply_train[1, idx_range] = wind.flatten()\n",
    "    supply_train[2, idx_range] = wind.flatten()\n",
    "    supply_train[3, idx_range] = biomass.flatten()\n",
    "    supply_train[4, idx_range] = biogas.flatten()\n",
    "    supply_train[5, idx_range] = small_hydro.flatten()\n",
    "    supply_train[6, idx_range] = natural_gas.flatten()\n",
    "    supply_train[7, idx_range] = large_hydro.flatten()\n",
    "    supply_train[8, idx_range] = imports.flatten()\n",
    "    supply_train[9, idx_range] = batteries.flatten()\n",
    "    supply_train[10, idx_range] = nuclear.flatten()\n",
    "    supply_train[11, idx_range] = coal.flatten()\n",
    "\n",
    "    demand_train[idx_range] = hour_ahead_forecast.flatten()"
   ]
  },
  {
   "cell_type": "markdown",
   "metadata": {},
   "source": [
    "### Construct GPs for energy sources"
   ]
  },
  {
   "cell_type": "code",
   "execution_count": 6,
   "metadata": {
    "tags": []
   },
   "outputs": [],
   "source": [
    "supply_gps = []\n",
    "εs = 1e3*np.ones(n_sources)\n",
    "\n",
    "εs = [1e3, 1e3, 1e3, 1e1, 1e1, 3e1, 1e3, 1e3, 1e3, 1e2, 1e2, 5]\n",
    "εs = [1e3, 1e3, 1e3, 1e-1, 5.0, 3e1, 1e3, 1e3, 1e3, 1e2, 1e2, 5]\n",
    "\n",
    "for ii in range(n_sources):\n",
    "    gp = GaussianProcess()\n",
    "    gp.train(x_train, supply_train[ii,:])\n",
    "    gp.predict(Ts, ε=εs[ii])\n",
    "    supply_gps.append(gp)"
   ]
  },
  {
   "cell_type": "code",
   "execution_count": 7,
   "metadata": {},
   "outputs": [
    {
     "data": {
      "text/plain": [
       "(170.0, 230.0)"
      ]
     },
     "execution_count": 7,
     "metadata": {},
     "output_type": "execute_result"
    },
    {
     "data": {
      "image/png": "[encoded data removed]",
      "text/plain": [
       "<Figure size 432x288 with 1 Axes>"
      ]
     },
     "metadata": {},
     "output_type": "display_data"
    }
   ],
   "source": [
    "kk = 4\n",
    "gp = supply_gps[kk]\n",
    "plt.plot(Ts, gp.sample(), linestyle='-', color='g')\n",
    "plt.plot(Ts, gp.mean, linestyle='-', color='k')\n",
    "for ii in range(n_files):\n",
    "    idx_range = range(N*ii,N*(ii+1))\n",
    "    plt.plot(Ts, supply_train[kk,idx_range], linestyle='-.')\n",
    "    ax = sns.lineplot(x=Ts.flatten(), y=supply_train[kk,idx_range].flatten(), linestyle='-.')\n",
    "plt.xlim([0, Ts[-1]]);\n",
    "plt.ylim([170, 230])"
   ]
  },
  {
   "cell_type": "markdown",
   "metadata": {},
   "source": [
    "### Construct GP for demand"
   ]
  },
  {
   "cell_type": "code",
   "execution_count": 8,
   "metadata": {},
   "outputs": [
    {
     "data": {
      "text/plain": [
       "Text(0, 0.5, 'Demand [MW]')"
      ]
     },
     "execution_count": 8,
     "metadata": {},
     "output_type": "execute_result"
    },
    {
     "data": {
      "image/png": "[encoded data removed]",
      "text/plain": [
       "<Figure size 432x288 with 1 Axes>"
      ]
     },
     "metadata": {},
     "output_type": "display_data"
    }
   ],
   "source": [
    "demand_gp = GaussianProcess()\n",
    "demand_gp.train(x_train, demand_train)\n",
    "demand_gp.predict(Ts, ε=1e3)\n",
    "\n",
    "plt.plot(Ts, demand_gp.sample(), linestyle='-', color='k')\n",
    "plt.plot(Ts, demand_gp.mean, linestyle='-', color='g')\n",
    "for ii in range(n_files):\n",
    "    idx_range = range(N*ii,N*(ii+1))\n",
    "    ax = plt.plot(Ts, demand_train[idx_range], linestyle='-.')\n",
    "\n",
    "plt.xlim([0, Ts[-1]])\n",
    "plt.ylim([15000, 30000])\n",
    "plt.xlabel(\"Time [h]\")\n",
    "plt.ylabel(\"Demand [MW]\")\n",
    "\n",
    "# matplotlib.pyplot.savefig('figs/demand_gp.png')"
   ]
  },
  {
   "cell_type": "markdown",
   "metadata": {},
   "source": [
    "### Solve sample problem"
   ]
  },
  {
   "cell_type": "code",
   "execution_count": 9,
   "metadata": {},
   "outputs": [],
   "source": [
    "supply = np.zeros((n_sources, N))\n",
    "for ii, gp in enumerate(supply_gps):\n",
    "    supply[ii] = gp.sample()\n",
    "supply = np.maximum(supply, 0.0)\n",
    "\n",
    "hour_ahead_forecast = demand_gp.sample()\n",
    "\n",
    "params = {}\n",
    "params['initial_storage_MW'] = initial_storage_MW\n",
    "params['max_sources'] = max_sources\n",
    "params['supply'] = supply\n",
    "params['hour_ahead_forecast'] = hour_ahead_forecast\n",
    "\n",
    "prob_features = []\n",
    "for kk in params:\n",
    "    prob_features.append(kk)"
   ]
  },
  {
   "cell_type": "code",
   "execution_count": 11,
   "metadata": {
    "tags": []
   },
   "outputs": [],
   "source": [
    "prob = Problem(N, n_sources)"
   ]
  },
  {
   "cell_type": "code",
   "execution_count": 12,
   "metadata": {
    "tags": []
   },
   "outputs": [
    {
     "name": "stdout",
     "output_type": "stream",
     "text": [
      "Academic license - for non-commercial use only - expires 2021-08-01\n",
      "Using license file /home/acauligi/licenses/gurobi.lic\n",
      "360035.5320802506\n",
      "0.011921882629394531\n"
     ]
    }
   ],
   "source": [
    "prob_success, cost, solve_time, optvals = prob.solve_bin_problem(params, solver=cp.GUROBI)\n",
    "print(cost)\n",
    "print(solve_time)"
   ]
  },
  {
   "cell_type": "code",
   "execution_count": 13,
   "metadata": {},
   "outputs": [
    {
     "name": "stdout",
     "output_type": "stream",
     "text": [
      "360053.23326272855\n",
      "1.5283570289611816\n"
     ]
    }
   ],
   "source": [
    "prob_success, cost, solve_time, optvals = prob.solve_bin_problem(params, solver=cp.MOSEK)\n",
    "print(cost)\n",
    "print(solve_time)"
   ]
  },
  {
   "cell_type": "code",
   "execution_count": 15,
   "metadata": {
    "tags": []
   },
   "outputs": [
    {
     "data": {
      "text/plain": [
       "(True, 360035.53208028834, 0.0007410049438476562)"
      ]
     },
     "execution_count": 15,
     "metadata": {},
     "output_type": "execute_result"
    }
   ],
   "source": [
    "y_opt = np.round(optvals[0])\n",
    "prob.solve_coco_problem(params, y_opt, solver=cp.GUROBI)"
   ]
  },
  {
   "cell_type": "markdown",
   "metadata": {},
   "source": [
    "### Generate training dataset"
   ]
  },
  {
   "cell_type": "code",
   "execution_count": 16,
   "metadata": {},
   "outputs": [
    {
     "name": "stderr",
     "output_type": "stream",
     "text": [
      "/home/acauligi/energy_291/energy291-project/energy291_project/lib/python3.6/site-packages/cvxpy/problems/problem.py:1268: UserWarning: Solution may be inaccurate. Try another solver, adjusting the solver settings, or solve with verbose=True for more information.\n",
      "  \"Solution may be inaccurate. Try another solver, \"\n"
     ]
    }
   ],
   "source": [
    "num_train = 900\n",
    "prob = Problem(N, n_sources)\n",
    "\n",
    "params = {}\n",
    "for kk in prob.bin_prob_params:\n",
    "    params[kk] = []\n",
    "Y = np.zeros((num_train, prob.n_sources, prob.N))\n",
    "costs = np.zeros(num_train)\n",
    "solve_times = np.zeros(num_train)\n",
    "\n",
    "prob_ii = 0\n",
    "while prob_ii < num_train:\n",
    "    supply = np.zeros((n_sources, N))\n",
    "    for ii, gp in enumerate(supply_gps):\n",
    "        supply[ii] = gp.sample()\n",
    "    supply = np.maximum(supply, 0.0)\n",
    "\n",
    "    hour_ahead_forecast = demand_gp.sample()\n",
    "\n",
    "    prob_params = {}\n",
    "    prob_params['initial_storage_MW'] = initial_storage_MW\n",
    "    prob_params['max_sources'] = max_sources\n",
    "    prob_params['supply'] = supply\n",
    "    prob_params['hour_ahead_forecast'] = hour_ahead_forecast\n",
    "\n",
    "    prob_success, cost, solve_time, optvals = prob.solve_bin_problem(prob_params, solver=cp.GUROBI)\n",
    "\n",
    "    if prob_success:\n",
    "        y_opt = optvals[0]\n",
    "        costs[prob_ii] = cost\n",
    "        solve_times[prob_ii] = solve_time\n",
    "        Y[prob_ii] = y_opt\n",
    "        for kk in prob_params:\n",
    "            params[kk].append(prob_params[kk])\n",
    "        prob_ii += 1"
   ]
  },
  {
   "cell_type": "markdown",
   "metadata": {},
   "source": [
    "### Train CoCo"
   ]
  },
  {
   "cell_type": "code",
   "execution_count": 17,
   "metadata": {},
   "outputs": [],
   "source": [
    "system = \"energy\"\n",
    "\n",
    "prob = Problem(N, n_sources)\n",
    "coco = CoCo(system, prob, prob_features)"
   ]
  },
  {
   "cell_type": "code",
   "execution_count": 18,
   "metadata": {},
   "outputs": [
    {
     "name": "stdout",
     "output_type": "stream",
     "text": [
      "896\n"
     ]
    },
    {
     "data": {
      "text/plain": [
       "FFNet(\n",
       "  (activation): ReLU()\n",
       "  (layers): ModuleList(\n",
       "    (0): Linear(in_features=158, out_features=32, bias=True)\n",
       "    (1): Linear(in_features=32, out_features=32, bias=True)\n",
       "    (2): Linear(in_features=32, out_features=32, bias=True)\n",
       "    (3): Linear(in_features=32, out_features=896, bias=True)\n",
       "  )\n",
       ")"
      ]
     },
     "execution_count": 18,
     "metadata": {},
     "output_type": "execute_result"
    }
   ],
   "source": [
    "train_data = [params, Y]\n",
    "\n",
    "n_features = 1 + 1 + prob.n_sources*prob.N + prob.N\n",
    "coco.construct_strategies(n_features, train_data)\n",
    "\n",
    "coco.setup_network(device_id=-1)\n",
    "print(coco.n_strategies)\n",
    "coco.model"
   ]
  },
  {
   "cell_type": "code",
   "execution_count": 19,
   "metadata": {},
   "outputs": [
    {
     "name": "stdout",
     "output_type": "stream",
     "text": [
      "Saved model at /home/acauligi/energy_291/energy291-project/CoCo_energy_20210603_1621.pt\n",
      "Done training\n"
     ]
    }
   ],
   "source": [
    "coco.training_params['TRAINING_ITERATIONS'] = 100\n",
    "coco.train(verbose=False)"
   ]
  },
  {
   "cell_type": "markdown",
   "metadata": {},
   "source": [
    "### Evaluate CoCo"
   ]
  },
  {
   "cell_type": "code",
   "execution_count": 20,
   "metadata": {},
   "outputs": [
    {
     "name": "stdout",
     "output_type": "stream",
     "text": [
      "7.354007005691528\n",
      "0.0070421695709228516\n"
     ]
    }
   ],
   "source": [
    "supply = np.zeros((n_sources, N))\n",
    "for ii, gp in enumerate(supply_gps):\n",
    "    supply[ii] = gp.sample()\n",
    "supply = np.maximum(supply, 0.0)\n",
    "hour_ahead_forecast = demand_gp.sample()\n",
    "\n",
    "prob_params = {}\n",
    "prob_params['initial_storage_MW'] = initial_storage_MW\n",
    "prob_params['max_sources'] = max_sources\n",
    "prob_params['supply'] = supply\n",
    "prob_params['hour_ahead_forecast'] = hour_ahead_forecast\n",
    "\n",
    "prob_success, true_cost, ip_solve_time, optvals = prob.solve_bin_problem(prob_params, solver=cp.MOSEK)\n",
    "total_time = np.Inf\n",
    "prob_success, cost, total_time, n_evals = coco.forward(prob_params, solver=cp.MOSEK)\n",
    "print(ip_solve_time)\n",
    "print(total_time)"
   ]
  },
  {
   "cell_type": "code",
   "execution_count": 27,
   "metadata": {
    "tags": []
   },
   "outputs": [
    {
     "name": "stdout",
     "output_type": "stream",
     "text": [
      "Done with 10 problems\n",
      "\n",
      "Done with 20 problems\n",
      "\n",
      "Done with 29 problems\n",
      "\n",
      "Done with 39 problems\n",
      "\n",
      "Done with 49 problems\n",
      "\n",
      "Done with 59 problems\n",
      "\n",
      "Done with 69 problems\n",
      "\n",
      "Done with 78 problems\n",
      "\n",
      "Done with 88 problems\n",
      "\n",
      "Done with 98 problems\n",
      "\n",
      "Done with 104 problems\n",
      "\n",
      "Done with 113 problems\n",
      "\n",
      "Done with 123 problems\n",
      "\n",
      "Done with 132 problems\n",
      "\n",
      "Done with 140 problems\n",
      "\n",
      "Done with 150 problems\n",
      "\n",
      "Done with 160 problems\n",
      "\n",
      "Done with 170 problems\n",
      "\n",
      "Done with 180 problems\n",
      "\n",
      "Done with 190 problems\n",
      "\n",
      "Done with 200 problems\n",
      "\n",
      "Done with 210 problems\n",
      "\n",
      "Done with 218 problems\n",
      "\n",
      "Done with 228 problems\n",
      "\n",
      "Done with 238 problems\n",
      "\n",
      "Done with 246 problems\n",
      "\n",
      "Done with 256 problems\n",
      "\n",
      "Done with 266 problems\n",
      "\n",
      "Done with 275 problems\n",
      "\n",
      "Done with 284 problems\n",
      "\n",
      "Done with 293 problems\n",
      "\n",
      "Done with 302 problems\n",
      "\n",
      "Done with 312 problems\n",
      "\n",
      "Done with 321 problems\n",
      "\n",
      "Done with 331 problems\n",
      "\n",
      "Done with 341 problems\n",
      "\n",
      "Done with 351 problems\n",
      "\n",
      "Done with 361 problems\n",
      "\n",
      "Done with 370 problems\n",
      "\n",
      "Done with 379 problems\n",
      "\n",
      "Done with 388 problems\n",
      "\n",
      "Done with 396 problems\n",
      "\n",
      "Done with 406 problems\n",
      "\n",
      "Done with 416 problems\n",
      "\n",
      "Done with 426 problems\n",
      "\n",
      "Done with 433 problems\n",
      "\n",
      "Done with 443 problems\n",
      "\n",
      "Done with 453 problems\n",
      "\n",
      "Done with 461 problems\n",
      "\n",
      "Done with 471 problems\n",
      "\n",
      "Done with 481 problems\n",
      "\n",
      "Done with 491 problems\n",
      "\n",
      "Done with 500 problems\n",
      "\n",
      "Done with 510 problems\n",
      "\n",
      "Done with 520 problems\n",
      "\n",
      "Done with 529 problems\n",
      "\n",
      "Done with 539 problems\n",
      "\n",
      "Done with 549 problems\n",
      "\n",
      "Done with 559 problems\n",
      "\n",
      "Done with 568 problems\n",
      "\n",
      "Done with 578 problems\n",
      "\n",
      "Done with 588 problems\n",
      "\n",
      "Done with 598 problems\n",
      "\n",
      "Done with 606 problems\n",
      "\n",
      "Done with 616 problems\n",
      "\n",
      "Done with 625 problems\n",
      "\n",
      "Done with 634 problems\n",
      "\n",
      "Done with 644 problems\n",
      "\n",
      "Done with 654 problems\n",
      "\n",
      "Done with 664 problems\n",
      "\n",
      "Done with 674 problems\n",
      "\n",
      "Done with 684 problems\n",
      "\n",
      "Done with 692 problems\n",
      "\n",
      "Done with 699 problems\n",
      "\n",
      "Done with 709 problems\n",
      "\n",
      "Done with 718 problems\n",
      "\n",
      "Done with 728 problems\n",
      "\n",
      "Done with 738 problems\n",
      "\n",
      "Done with 748 problems\n",
      "\n",
      "Done with 758 problems\n",
      "\n",
      "Done with 767 problems\n",
      "\n",
      "Done with 776 problems\n",
      "\n",
      "Done with 786 problems\n",
      "\n",
      "Done with 796 problems\n",
      "\n",
      "Done with 806 problems\n",
      "\n",
      "Done with 816 problems\n",
      "\n",
      "Done with 824 problems\n",
      "\n",
      "Done with 833 problems\n",
      "\n",
      "Done with 843 problems\n",
      "\n",
      "Done with 853 problems\n",
      "\n",
      "Done with 862 problems\n",
      "\n",
      "Done with 872 problems\n",
      "\n",
      "Done with 881 problems\n",
      "\n",
      "Done with 891 problems\n",
      "\n",
      "Done with 900 problems\n",
      "\n",
      "Done with 910 problems\n",
      "\n",
      "Done with 920 problems\n",
      "\n",
      "Done with 929 problems\n",
      "\n",
      "Done with 938 problems\n",
      "\n"
     ]
    },
    {
     "data": {
      "text/plain": [
       "99.15611814345992"
      ]
     },
     "execution_count": 27,
     "metadata": {},
     "output_type": "execute_result"
    }
   ],
   "source": [
    "n_test = 1000\n",
    "\n",
    "n_succ = 0\n",
    "count = 0\n",
    "\n",
    "costs_coco = []\n",
    "total_time_coco = []\n",
    "num_solves_coco = []\n",
    "\n",
    "cost_ratios_coco = []\n",
    "costs_ip = []\n",
    "total_time_ip = []\n",
    "num_solves_ip = []\n",
    "\n",
    "for ii in range(n_test):\n",
    "    if ii % 10 == 0 and ii > 0:\n",
    "        print('Done with {} problems\\n'.format(count))\n",
    "    supply = np.zeros((n_sources, N))\n",
    "    for ii, gp in enumerate(supply_gps):\n",
    "        supply[ii] = gp.sample()\n",
    "    supply = np.maximum(supply, 0.0)\n",
    "    hour_ahead_forecast = demand_gp.sample()\n",
    "\n",
    "    prob_params = {}\n",
    "    prob_params['initial_storage_MW'] = initial_storage_MW\n",
    "    prob_params['max_sources'] = max_sources\n",
    "    prob_params['supply'] = supply\n",
    "    prob_params['hour_ahead_forecast'] = hour_ahead_forecast\n",
    "\n",
    "    try:\n",
    "        prob_success, true_cost, ip_solve_time, optvals = prob.solve_bin_problem(prob_params, solver=cp.MOSEK)\n",
    "        if not prob_success:\n",
    "            continue\n",
    "\n",
    "        prob_success, cost, total_time, n_evals = coco.forward(prob_params, solver=cp.MOSEK)\n",
    "\n",
    "        count += 1\n",
    "        if prob_success:\n",
    "            n_succ += 1\n",
    "            costs_coco += [cost]\n",
    "            total_time_coco += [total_time]\n",
    "            num_solves_coco += [n_evals]\n",
    "\n",
    "            costs_ip += [true_cost]\n",
    "            total_time_ip += [ip_solve_time]\n",
    "\n",
    "            cost_ratios_coco += [cost / true_cost]\n",
    "    except (KeyboardInterrupt, SystemExit):\n",
    "        raise\n",
    "    except:\n",
    "        print('Solver failed at {}'.format(ii))\n",
    "        continue\n",
    "\n",
    "costs_coco = np.array(costs_coco)\n",
    "cost_ratios_coco = np.array(cost_ratios_coco)\n",
    "total_time_coco = np.array(total_time_coco)\n",
    "num_solves_coco = np.array(num_solves_coco, dtype=int)\n",
    "\n",
    "costs_ip = np.array(costs_ip)\n",
    "total_time_ip = np.array(total_time_ip)\n",
    "num_solves_ip = np.array(num_solves_ip, dtype=int)\n",
    "\n",
    "coco_percentage = 100 * float(n_succ) / float(count)\n",
    "coco_percentage"
   ]
  },
  {
   "cell_type": "code",
   "execution_count": 28,
   "metadata": {},
   "outputs": [
    {
     "data": {
      "text/plain": [
       "99.15611814345992"
      ]
     },
     "execution_count": 28,
     "metadata": {},
     "output_type": "execute_result"
    }
   ],
   "source": [
    "coco_percentage"
   ]
  },
  {
   "cell_type": "markdown",
   "metadata": {},
   "source": [
    "### Plot results"
   ]
  },
  {
   "cell_type": "code",
   "execution_count": 29,
   "metadata": {},
   "outputs": [
    {
     "data": {
      "image/png": "[encoded data removed]",
      "text/plain": [
       "<Figure size 576x288 with 1 Axes>"
      ]
     },
     "metadata": {},
     "output_type": "display_data"
    }
   ],
   "source": [
    "results = {}\n",
    "results['Policy'] = ['B&B']*len(total_time_ip) + ['CoCo']*len(total_time_coco)\n",
    "results['Time'] = 1000*np.hstack((total_time_ip, total_time_coco))\n",
    "results = pd.DataFrame(results)\n",
    "\n",
    "plt.figure(figsize=(8,4))\n",
    "plt.tight_layout()\n",
    "\n",
    "ax_time = sns.boxplot(x=results['Policy'], y=results['Time'], palette=\"Set3\")\n",
    "ax_time.set(xlabel=\"\", ylabel=\"Time [ms]\")\n",
    "ax_time.set_yscale(\"log\")\n",
    "\n",
    "figure = ax_time.get_figure()\n",
    "# figure.savefig(\"figs/time.png\", bbox_inches='tight')"
   ]
  },
  {
   "cell_type": "code",
   "execution_count": 23,
   "metadata": {},
   "outputs": [
    {
     "data": {
      "image/png": "[encoded data removed]",
      "text/plain": [
       "<Figure size 576x288 with 1 Axes>"
      ]
     },
     "metadata": {},
     "output_type": "display_data"
    }
   ],
   "source": [
    "results = {}\n",
    "results['Policy'] =  ['B&B']*len(costs_ip) + ['CoCo']*len(cost_ratios_coco)\n",
    "results['Optimality'] = np.hstack(([100]*costs_ip.size, 100*cost_ratios_coco))\n",
    "results = pd.DataFrame(results)\n",
    "\n",
    "plt.figure(figsize=(8,4))\n",
    "plt.tight_layout()\n",
    "plt.ylim([90, 105])\n",
    "\n",
    "ax_cost = sns.boxplot(x=results['Policy'], y=results['Optimality'], palette=\"Set3\")\n",
    "ax_cost.set(xlabel=\"\", ylabel=\"Normalized Cost [%]\")\n",
    "\n",
    "figure = ax_cost.get_figure()\n",
    "# figure.savefig(\"figs/cost.png\", bbox_inches='tight')"
   ]
  },
  {
   "cell_type": "code",
   "execution_count": 24,
   "metadata": {},
   "outputs": [
    {
     "data": {
      "image/png": "[encoded data removed]",
      "text/plain": [
       "<Figure size 576x288 with 1 Axes>"
      ]
     },
     "metadata": {},
     "output_type": "display_data"
    }
   ],
   "source": [
    "results = {}\n",
    "results = {'B&B':[100.0], 'CoCo':[coco_percentage]}\n",
    "results = pd.DataFrame(results)\n",
    "\n",
    "plt.figure(figsize=(8,4))\n",
    "plt.ylim(0,100)\n",
    "plt.tight_layout()\n",
    "\n",
    "ax_success = sns.barplot(data=results, palette=\"Set3\")\n",
    "ax_success.set(xlabel=\"\", ylabel=\"Solutions Found [%]\")\n",
    "\n",
    "figure = ax_success.get_figure()\n",
    "# figure.savefig(\"figs/percent_success.png\", bbox_inches='tight')"
   ]
  },
  {
   "cell_type": "code",
   "execution_count": 25,
   "metadata": {},
   "outputs": [
    {
     "data": {
      "text/plain": [
       "97.87234042553192"
      ]
     },
     "execution_count": 25,
     "metadata": {},
     "output_type": "execute_result"
    }
   ],
   "source": [
    "coco_percentage"
   ]
  },
  {
   "cell_type": "code",
   "execution_count": null,
   "metadata": {},
   "outputs": [],
   "source": []
  }
 ],
 "metadata": {
  "kernelspec": {
   "display_name": "energy291_project",
   "language": "python",
   "name": "energy291_project"
  },
  "language_info": {
   "codemirror_mode": {
    "name": "ipython",
    "version": 3
   },
   "file_extension": ".py",
   "mimetype": "text/x-python",
   "name": "python",
   "nbconvert_exporter": "python",
   "pygments_lexer": "ipython3",
   "version": "3.6.3"
  }
 },
 "nbformat": 4,
 "nbformat_minor": 5
}
